{
 "cells": [
  {
   "cell_type": "markdown",
   "id": "f049d4a8-4ff0-4a93-8567-0650bc3ae55c",
   "metadata": {},
   "source": [
    "# Theory Question"
   ]
  },
  {
   "cell_type": "markdown",
   "id": "bd8e40e3-c6d9-4078-8fde-24383a7cba61",
   "metadata": {},
   "source": [
    "# Q1 What is Object-Oriented Programming (OOP)?\n",
    "Ans. OOP is a programming paradigm based on the concept of \"objects,\" which can contain data and code: data in the form of fields (often known as attributes or properties), and code in the form of procedures (often known as methods)."
   ]
  },
  {
   "cell_type": "markdown",
   "id": "af7aa87c-9c24-4374-915b-ddd704c70505",
   "metadata": {},
   "source": [
    "# Q2 What is a class in OOP?\n",
    " Ans. A class is a blueprint for creating objects. It defines a set of attributes and methods that the created objects will have."
   ]
  },
  {
   "cell_type": "markdown",
   "id": "a2ee228b-736a-4ba3-9efb-4a85c7d1d99a",
   "metadata": {},
   "source": [
    "# Q3 What is an object in OOP?\n",
    "Ans. An object is an instance of a class. It is created using the class and can have its own unique attributes and methods."
   ]
  },
  {
   "cell_type": "markdown",
   "id": "9aff6375-3e87-4c37-ac52-392fd66e64c6",
   "metadata": {},
   "source": [
    "# Q4 What is the difference between abstraction and encapsulation?\n",
    "Ans. Abstraction is the concept of hiding the complex implementation details and showing only the necessary features of an object.\n",
    "Encapsulation is the technique of bundling the data (attributes) and methods that operate on the data into a single unit, or class, and restricting access to some of the object's components."
   ]
  },
  {
   "cell_type": "markdown",
   "id": "0731966d-2c98-4484-b868-04fe736a7f50",
   "metadata": {},
   "source": [
    "# Q5 What are dunder methods in Python?\n",
    "Ans. Dunder methods (short for \"double underscore\") are special methods in Python that start and end with double underscores, like __init__ or __str__. They are used to define the behavior of objects for built-in operations."
   ]
  },
  {
   "cell_type": "markdown",
   "id": "385cd55f-b0c1-40a7-9183-3584cf275c90",
   "metadata": {},
   "source": [
    "# Q6 Explain the concept of inheritance in OOP.\n",
    "Ans. Inheritance allows a class to inherit attributes and methods from another class. This helps in reusing code and establishing a relationship between classes."
   ]
  },
  {
   "cell_type": "markdown",
   "id": "57a9e572-beb9-42d4-800f-c50d136a5b59",
   "metadata": {},
   "source": [
    "# Q7 What is polymorphism in OOP?\n",
    "Ans. Polymorphism allows objects of different classes to be treated as objects of a common superclass. It is the ability to redefine methods for derived classes."
   ]
  },
  {
   "cell_type": "markdown",
   "id": "54a15b10-4e1e-475f-9826-71b05c611cf5",
   "metadata": {},
   "source": [
    "# Q8 How is encapsulation achieved in Python?\n",
    "Ans Encapsulation in Python is achieved using private and protected access specifiers. Attributes and methods can be made private by prefixing them with double underscores (__) and protected by prefixing them with a single underscore (_)."
   ]
  },
  {
   "cell_type": "markdown",
   "id": "0ebf0c46-88b1-4f48-bbd4-a39c5fedcbea",
   "metadata": {},
   "source": [
    "# Q9 What is a constructor in Python?\n",
    "Ans. A constructor is a special method called __init__ that is automatically invoked when an object is created. It is used to initialize the object's attributes."
   ]
  },
  {
   "cell_type": "markdown",
   "id": "e54a4d7a-b5e7-46b4-a436-af6008402c7b",
   "metadata": {},
   "source": [
    "# Q10 What are class and static methods in Python?\n",
    "Ans. Class methods are methods that are bound to the class and not the instance. They are defined using the @classmethod decorator.\n",
    "Static methods are methods that do not operate on an instance or class. They are defined using the @staticmethod decorator."
   ]
  },
  {
   "cell_type": "markdown",
   "id": "b82b64ff-524b-49c0-97aa-77be697c7dc5",
   "metadata": {},
   "source": [
    "# Q11 What is method overloading in Python?\n",
    "Ans. Method overloading refers to the ability to define multiple methods with the same name but different parameters. Python does not support method overloading directly, but it can be achieved using default arguments."
   ]
  },
  {
   "cell_type": "markdown",
   "id": "a4bbf3d9-f8ce-40e6-9d20-344b758ee0c2",
   "metadata": {},
   "source": [
    "# Q12 What is method overriding in OOP?\n",
    "Ans. Method overriding allows a subclass to provide a specific implementation of a method that is already defined in its superclass."
   ]
  },
  {
   "cell_type": "markdown",
   "id": "474107c8-e568-450c-920d-8a25e68c20f0",
   "metadata": {},
   "source": [
    "# Q13 What is a property decorator in Python?\n",
    "Ans. The @property decorator in Python is used to define methods that can be accessed like attributes. It allows for controlled access to instance attributes."
   ]
  },
  {
   "cell_type": "markdown",
   "id": "3a424239-6aa1-4b73-b0b7-be32f06eac44",
   "metadata": {},
   "source": [
    "# Q14 Why is polymorphism important in OOP?\n",
    "Ans Polymorphism is important because it allows for flexibility and the ability to use objects of different types interchangeably, making code more modular and extensible."
   ]
  },
  {
   "cell_type": "markdown",
   "id": "c9ae6243-eb7a-4b52-8460-8c36a03ed65e",
   "metadata": {},
   "source": [
    "# Q15 What is an abstract class in Python?\n",
    "Ans. An abstract class is a class that cannot be instantiated and is typically used to define a common interface for its subclasses. It is defined using the abc module."
   ]
  },
  {
   "cell_type": "markdown",
   "id": "e7a7b5c6-64c8-478f-907f-98d511aefb92",
   "metadata": {},
   "source": [
    "# Q16 What are the advantages of OOP?\n",
    "Ans. OOP offers several advantages, including modularity, reusability, scalability, and ease of maintenance."
   ]
  },
  {
   "cell_type": "markdown",
   "id": "b714d5fd-40e3-4a31-a6ed-ee1773c11113",
   "metadata": {},
   "source": [
    "# Q17 What is multiple inheritance in Python?\n",
    "Ans. Multiple inheritance allows a class to inherit attributes and methods from more than one parent class."
   ]
  },
  {
   "cell_type": "markdown",
   "id": "fcece2d6-b2ce-412b-a61b-e02fcb6c40f8",
   "metadata": {},
   "source": [
    "# Q18 What is the difference between a class variable and an instance variable?\n",
    "Ans. A class variable is shared among all instances of a class, while an instance variable is unique to each instance."
   ]
  },
  {
   "cell_type": "markdown",
   "id": "28261198-8509-402c-87bf-b17b067afbeb",
   "metadata": {},
   "source": [
    "# Q19 Explain the purpose of __str__ and __repr__ methods in Python.\n",
    "\n",
    "Ans.(__str__) is used to define a human-readable string representation of an object, while __repr__ is used to define an unambiguous string representation of an object."
   ]
  },
  {
   "cell_type": "markdown",
   "id": "688251f1-7e51-4a97-8623-4a77bd44b9b2",
   "metadata": {},
   "source": [
    "# Q20 What is the significance of the super() function in Python?\n",
    "\n",
    "Ans The super() function is used to call methods from a superclass in a subclass, allowing for method overriding and inheritance."
   ]
  },
  {
   "cell_type": "markdown",
   "id": "4e7feb75-653b-40af-b986-76b83a3a29ef",
   "metadata": {},
   "source": [
    "# Q21 What is the significance of the __del__ method in Python?\n",
    "\n",
    "Ans. The __del__ method is a destructor method that is called when an object is about to be destroyed. It is used to perform cleanup operations."
   ]
  },
  {
   "cell_type": "markdown",
   "id": "0363a114-bdad-4ddc-9041-70ac621f6071",
   "metadata": {},
   "source": [
    "# Q22 What is the difference between @staticmethod and @classmethod in Python?\n",
    "\n",
    "Ans @staticmethod defines a method that does not operate on an instance or class, while @classmethod defines a method that is bound to the class and can modify class state."
   ]
  },
  {
   "cell_type": "markdown",
   "id": "b4832234-9910-4107-828f-92e66f1a9183",
   "metadata": {},
   "source": [
    "# Q23 How does polymorphism work in Python with inheritance?\n",
    "\n",
    "Ans Polymorphism in Python with inheritance allows methods to be overridden in subclasses, enabling different implementations to be used interchangeably."
   ]
  },
  {
   "cell_type": "markdown",
   "id": "d2034b6f-1f28-4db7-b72e-ee09c0ec5196",
   "metadata": {},
   "source": [
    "# Q24 What is method chaining in Python OOP?\n",
    "\n",
    "Ans Method chaining is a technique where multiple methods are called on the same object in a single statement, enhancing readability and fluency."
   ]
  },
  {
   "cell_type": "markdown",
   "id": "290a65de-1a02-4426-9ffe-8fad10122640",
   "metadata": {},
   "source": [
    "# Q25 What is the purpose of the __call__ method in Python?\n",
    "\n",
    "Ans The __call__ method allows an instance of a class to be called as a function, enabling objects to behave like functions."
   ]
  },
  {
   "cell_type": "markdown",
   "id": "69445c53-5c35-4663-a98c-99950f98e282",
   "metadata": {},
   "source": [
    "# Practical Question"
   ]
  },
  {
   "cell_type": "markdown",
   "id": "4c39a166-4c0f-4782-91e2-288822c77d35",
   "metadata": {},
   "source": [
    "# Q1 Create a parent class Animal with a method speak() that prints a generic message. Create a child class Dog that overrides the speak() method to print \"Bark!\"."
   ]
  },
  {
   "cell_type": "code",
   "execution_count": 1,
   "id": "752e1d01-5b0f-4607-a964-120fc88c7ada",
   "metadata": {},
   "outputs": [
    {
     "name": "stdout",
     "output_type": "stream",
     "text": [
      "Animal speaks\n",
      "Bark!\n"
     ]
    }
   ],
   "source": [
    "class Animal:\n",
    "    def speak(self):\n",
    "        print(\"Animal speaks\")\n",
    "\n",
    "class Dog(Animal):\n",
    "    def speak(self):\n",
    "        print(\"Bark!\")\n",
    "\n",
    "\n",
    "animal = Animal()\n",
    "animal.speak()  \n",
    "\n",
    "dog = Dog()\n",
    "dog.speak()  \n"
   ]
  },
  {
   "cell_type": "markdown",
   "id": "3aa5c70f-7d5c-4f7e-b680-3d427dd5bc26",
   "metadata": {},
   "source": [
    "# Q2 Write a program to create an abstract class Shape with a method area(). Derive classes Circle and Rectangle from it and implement the area() method in both."
   ]
  },
  {
   "cell_type": "code",
   "execution_count": 2,
   "id": "b53a013d-a743-4a77-98b4-0bf2ef548447",
   "metadata": {},
   "outputs": [
    {
     "name": "stdout",
     "output_type": "stream",
     "text": [
      "78.5\n",
      "24\n"
     ]
    }
   ],
   "source": [
    "from abc import ABC, abstractmethod\n",
    "\n",
    "class Shape(ABC):\n",
    "    @abstractmethod\n",
    "    def area(self):\n",
    "        pass\n",
    "\n",
    "class Circle(Shape):\n",
    "    def __init__(self, radius):\n",
    "        self.radius = radius\n",
    "\n",
    "    def area(self):\n",
    "        return 3.14 * self.radius ** 2\n",
    "\n",
    "class Rectangle(Shape):\n",
    "    def __init__(self, width, height):\n",
    "        self.width = width\n",
    "        self.height = height\n",
    "\n",
    "    def area(self):\n",
    "        return self.width * self.height\n",
    "\n",
    "# Example usage\n",
    "circle = Circle(5)\n",
    "print(circle.area())  \n",
    "\n",
    "rectangle = Rectangle(4, 6)\n",
    "print(rectangle.area())  \n"
   ]
  },
  {
   "cell_type": "markdown",
   "id": "f7780047-ebf4-4835-a16f-4a9ab8109698",
   "metadata": {},
   "source": [
    "# Q3 Implement a multi-level inheritance scenario where a class Vehicle has an attribute type. Derive a class Car and further derive a class ElectricCar that adds a battery attribute."
   ]
  },
  {
   "cell_type": "code",
   "execution_count": 3,
   "id": "4d27e0c0-1239-4699-8d8b-b37d47f42be2",
   "metadata": {},
   "outputs": [
    {
     "name": "stdout",
     "output_type": "stream",
     "text": [
      "Electric\n",
      "Tesla Model S\n",
      "100 kWh\n"
     ]
    }
   ],
   "source": [
    "class Vehicle:\n",
    "    def __init__(self, type):\n",
    "        self.type = type\n",
    "\n",
    "class Car(Vehicle):\n",
    "    def __init__(self, type, model):\n",
    "        super().__init__(type)\n",
    "        self.model = model\n",
    "\n",
    "class ElectricCar(Car):\n",
    "    def __init__(self, type, model, battery):\n",
    "        super().__init__(type, model)\n",
    "        self.battery = battery\n",
    "\n",
    "\n",
    "electric_car = ElectricCar(\"Electric\", \"Tesla Model S\", \"100 kWh\")\n",
    "print(electric_car.type)  \n",
    "print(electric_car.model)  \n",
    "print(electric_car.battery)  \n"
   ]
  },
  {
   "cell_type": "markdown",
   "id": "dc9ae3ae-3d95-4fb0-b78c-6ea10395d4a1",
   "metadata": {},
   "source": [
    "# Q4 Demonstrate polymorphism by creating a base class Bird with a method fly(). Create two derived classes Sparrow and Penguin that override the fly() method."
   ]
  },
  {
   "cell_type": "code",
   "execution_count": 4,
   "id": "185b16e2-5451-404e-8141-23fe59a84dae",
   "metadata": {},
   "outputs": [
    {
     "name": "stdout",
     "output_type": "stream",
     "text": [
      "Sparrow is flying\n",
      "Penguin can't fly\n"
     ]
    }
   ],
   "source": [
    "class Bird:\n",
    "    def fly(self):\n",
    "        print(\"Bird is flying\")\n",
    "\n",
    "class Sparrow(Bird):\n",
    "    def fly(self):\n",
    "        print(\"Sparrow is flying\")\n",
    "\n",
    "class Penguin(Bird):\n",
    "    def fly(self):\n",
    "        print(\"Penguin can't fly\")\n",
    "\n",
    "# Example usage\n",
    "sparrow = Sparrow()\n",
    "sparrow.fly()  \n",
    "\n",
    "penguin = Penguin()\n",
    "penguin.fly()  \n"
   ]
  },
  {
   "cell_type": "markdown",
   "id": "79b99ef6-e20a-479c-9022-1ef802b64ea6",
   "metadata": {},
   "source": [
    "# Q5 Write a program to demonstrate encapsulation by creating a class BankAccount with private attributes balance and methods to deposit, withdraw, and check balance."
   ]
  },
  {
   "cell_type": "code",
   "execution_count": 5,
   "id": "dcd269bd-7b65-42b8-b225-384f4f44f891",
   "metadata": {},
   "outputs": [
    {
     "name": "stdout",
     "output_type": "stream",
     "text": [
      "120\n"
     ]
    }
   ],
   "source": [
    "class BankAccount:\n",
    "    def __init__(self, initial_balance=0):\n",
    "        self.__balance = initial_balance\n",
    "\n",
    "    def deposit(self, amount):\n",
    "        self.__balance += amount\n",
    "\n",
    "    def withdraw(self, amount):\n",
    "        if amount <= self.__balance:\n",
    "            self.__balance -= amount\n",
    "        else:\n",
    "            print(\"Insufficient funds\")\n",
    "\n",
    "    def check_balance(self):\n",
    "        return self.__balance\n",
    "\n",
    "# Example usage\n",
    "account = BankAccount(100)\n",
    "account.deposit(50)\n",
    "account.withdraw(30)\n",
    "print(account.check_balance())  \n"
   ]
  },
  {
   "cell_type": "markdown",
   "id": "be231e6c-4976-4cd2-be35-d8635ab491b6",
   "metadata": {},
   "source": [
    "# Q6 Demonstrate runtime polymorphism using a method play() in a base class Instrument. Derive classes Guitar and Piano that implement their own version of play()."
   ]
  },
  {
   "cell_type": "code",
   "execution_count": 6,
   "id": "4b26c4c8-4993-4a3d-b77b-19702bdaeff6",
   "metadata": {},
   "outputs": [
    {
     "name": "stdout",
     "output_type": "stream",
     "text": [
      "Playing guitar\n",
      "Playing piano\n"
     ]
    }
   ],
   "source": [
    "class Instrument:\n",
    "    def play(self):\n",
    "        print(\"Playing instrument\")\n",
    "\n",
    "class Guitar(Instrument):\n",
    "    def play(self):\n",
    "        print(\"Playing guitar\")\n",
    "\n",
    "class Piano(Instrument):\n",
    "    def play(self):\n",
    "        print(\"Playing piano\")\n",
    "\n",
    "# Example usage\n",
    "guitar = Guitar()\n",
    "guitar.play()  \n",
    "\n",
    "piano = Piano()\n",
    "piano.play()  \n"
   ]
  },
  {
   "cell_type": "markdown",
   "id": "6ed7b90a-8e79-4099-94e0-922b82692586",
   "metadata": {},
   "source": [
    "# Q7 Create a class MathOperations with a class method add_numbers() to add two numbers and a static method subtract_numbers() to subtract two numbers."
   ]
  },
  {
   "cell_type": "code",
   "execution_count": 7,
   "id": "2e5d1df0-f5c6-41b9-a37e-db1a8f05a573",
   "metadata": {},
   "outputs": [
    {
     "name": "stdout",
     "output_type": "stream",
     "text": [
      "8\n",
      "2\n"
     ]
    }
   ],
   "source": [
    "class MathOperations:\n",
    "    @classmethod\n",
    "    def add_numbers(cls, a, b):\n",
    "        return a + b\n",
    "\n",
    "    @staticmethod\n",
    "    def subtract_numbers(a, b):\n",
    "        return a - b\n",
    "\n",
    "# Example usage\n",
    "print(MathOperations.add_numbers(5, 3))  \n",
    "print(MathOperations.subtract_numbers(5, 3))  \n"
   ]
  },
  {
   "cell_type": "markdown",
   "id": "4f481ce5-f5b1-439a-8be5-478fb85689a9",
   "metadata": {},
   "source": [
    "# Q8 Implement a class Person with a class method to count the total number of persons created."
   ]
  },
  {
   "cell_type": "code",
   "execution_count": 8,
   "id": "4e83aea0-8470-4d8e-8e28-0a7a88ed6914",
   "metadata": {},
   "outputs": [
    {
     "name": "stdout",
     "output_type": "stream",
     "text": [
      "2\n"
     ]
    }
   ],
   "source": [
    "class Person:\n",
    "    count = 0\n",
    "\n",
    "    def __init__(self, name):\n",
    "        self.name = name\n",
    "        Person.count += 1\n",
    "\n",
    "    @classmethod\n",
    "    def total_persons(cls):\n",
    "        return cls.count\n",
    "\n",
    "# Example usage\n",
    "person1 = Person(\"Alice\")\n",
    "person2 = Person(\"Bob\")\n",
    "print(Person.total_persons())  \n"
   ]
  },
  {
   "cell_type": "markdown",
   "id": "96fca5c9-11ab-40ba-9078-028c8ea6f6f7",
   "metadata": {},
   "source": [
    "# Q9 Write a class Fraction with attributes numerator and denominator. Override the __str__ method to display the fraction as \"numerator/denominator\"."
   ]
  },
  {
   "cell_type": "code",
   "execution_count": 9,
   "id": "8bf0e9d7-7461-47fd-9a79-17b01356eea8",
   "metadata": {},
   "outputs": [
    {
     "name": "stdout",
     "output_type": "stream",
     "text": [
      "3/4\n"
     ]
    }
   ],
   "source": [
    "class Fraction:\n",
    "    def __init__(self, numerator, denominator):\n",
    "        self.numerator = numerator\n",
    "        self.denominator = denominator\n",
    "\n",
    "    def __str__(self):\n",
    "        return f\"{self.numerator}/{self.denominator}\"\n",
    "\n",
    "# Example usage\n",
    "fraction = Fraction(3, 4)\n",
    "print(fraction)  \n"
   ]
  },
  {
   "cell_type": "markdown",
   "id": "ce6c3f04-d3ae-4a0a-b9d3-5837398d9043",
   "metadata": {},
   "source": [
    "# Q10 Demonstrate operator overloading by creating a class Vector and overriding the __add__ method to add two vectors."
   ]
  },
  {
   "cell_type": "code",
   "execution_count": 10,
   "id": "81f246c4-4726-4b47-855e-0b1aeb036abb",
   "metadata": {},
   "outputs": [
    {
     "name": "stdout",
     "output_type": "stream",
     "text": [
      "Vector(6, 8)\n"
     ]
    }
   ],
   "source": [
    "class Vector:\n",
    "    def __init__(self, x, y):\n",
    "        self.x = x\n",
    "        self.y = y\n",
    "\n",
    "    def __add__(self, other):\n",
    "        return Vector(self.x + other.x, self.y + other.y)\n",
    "\n",
    "    def __str__(self):\n",
    "        return f\"Vector({self.x}, {self.y})\"\n",
    "\n",
    "# Example usage\n",
    "vector1 = Vector(2, 3)\n",
    "vector2 = Vector(4, 5)\n",
    "result = vector1 + vector2\n",
    "print(result)  \n"
   ]
  },
  {
   "cell_type": "markdown",
   "id": "0ac3dd20-54b1-4efb-a088-e91015e77581",
   "metadata": {},
   "source": [
    "# Q11 Create a class Person with attributes name and age. Add a method greet() that prints \"Hello, my name is {name} and I am {age} years old.\""
   ]
  },
  {
   "cell_type": "code",
   "execution_count": 11,
   "id": "8df353f5-7c91-43b5-bcd3-6c258349d681",
   "metadata": {},
   "outputs": [
    {
     "name": "stdout",
     "output_type": "stream",
     "text": [
      "Hello, my name is Alice and I am 30 years old.\n"
     ]
    }
   ],
   "source": [
    "class Person:\n",
    "    def __init__(self, name, age):\n",
    "        self.name = name\n",
    "        self.age = age\n",
    "    def greet(self):\n",
    "        print(f\"Hello, my name is {self.name} and I am {self.age} years old.\")\n",
    "\n",
    "# Example usage\n",
    "person = Person(\"Alice\", 30)\n",
    "person.greet()  \n"
   ]
  },
  {
   "cell_type": "markdown",
   "id": "b589731a-573f-4ca8-90ec-463f62f8403f",
   "metadata": {},
   "source": [
    "# Q12 Implement a class Student with attributes name and grades. Create a method average_grade() to compute the average of the grades."
   ]
  },
  {
   "cell_type": "code",
   "execution_count": 12,
   "id": "880b1707-69d4-4206-a254-82d2c1321aac",
   "metadata": {},
   "outputs": [
    {
     "name": "stdout",
     "output_type": "stream",
     "text": [
      "84.33333333333333\n"
     ]
    }
   ],
   "source": [
    "class Student:\n",
    "    def __init__(self, name, grades):\n",
    "        self.name = name\n",
    "        self.grades = grades\n",
    "\n",
    "    def average_grade(self):\n",
    "        return sum(self.grades) / len(self.grades)\n",
    "\n",
    "# Example usage\n",
    "student = Student(\"Bob\", [85, 90, 78])\n",
    "print(student.average_grade())  \n"
   ]
  },
  {
   "cell_type": "markdown",
   "id": "8270daff-ba3f-4d75-b152-5f4bd39155dd",
   "metadata": {},
   "source": [
    "# Q13 Create a class Rectangle with methods set_dimensions() to set the dimensions and area() to calculate the area."
   ]
  },
  {
   "cell_type": "code",
   "execution_count": 13,
   "id": "36f87b68-82f8-4499-b3de-91176728e617",
   "metadata": {},
   "outputs": [
    {
     "name": "stdout",
     "output_type": "stream",
     "text": [
      "20\n"
     ]
    }
   ],
   "source": [
    "class Rectangle:\n",
    "    def __init__(self):\n",
    "        self.width = 0\n",
    "        self.height = 0\n",
    "\n",
    "    def set_dimensions(self, width, height):\n",
    "        self.width = width\n",
    "        self.height = height\n",
    "\n",
    "    def area(self):\n",
    "        return self.width * self.height\n",
    "\n",
    "# Example usage\n",
    "rectangle = Rectangle()\n",
    "rectangle.set_dimensions(4, 5)\n",
    "print(rectangle.area())  \n"
   ]
  },
  {
   "cell_type": "markdown",
   "id": "07dda846-91e6-40fd-ba24-5a2e70c7fcfa",
   "metadata": {},
   "source": [
    "# Q14 Create a class Employee with a method calculate_salary() that computes the salary based on hours worked and hourly rate. Create a derived class Manager that adds a bonus to the salary."
   ]
  },
  {
   "cell_type": "code",
   "execution_count": 14,
   "id": "09790d85-a788-48c8-b028-f763bdd1c72a",
   "metadata": {},
   "outputs": [
    {
     "name": "stdout",
     "output_type": "stream",
     "text": [
      "3000\n"
     ]
    }
   ],
   "source": [
    "class Employee:\n",
    "    def __init__(self, hours_worked, hourly_rate):\n",
    "        self.hours_worked = hours_worked\n",
    "        self.hourly_rate = hourly_rate\n",
    "\n",
    "    def calculate_salary(self):\n",
    "        return self.hours_worked * self.hourly_rate\n",
    "\n",
    "class Manager(Employee):\n",
    "    def __init__(self, hours_worked, hourly_rate, bonus):\n",
    "        super().__init__(hours_worked, hourly_rate)\n",
    "        self.bonus = bonus\n",
    "\n",
    "    def calculate_salary(self):\n",
    "        base_salary = super().calculate_salary()\n",
    "        return base_salary + self.bonus\n",
    "\n",
    "# Example usage\n",
    "manager = Manager(40, 50, 1000)\n",
    "print(manager.calculate_salary())  \n"
   ]
  },
  {
   "cell_type": "markdown",
   "id": "a4e8de38-6e79-438e-b63e-48a9fc0d01b3",
   "metadata": {},
   "source": [
    "# Q15 Create a class Product with attributes name, price, and quantity. Implement a method total_price() that calculates the total price of the product."
   ]
  },
  {
   "cell_type": "code",
   "execution_count": 15,
   "id": "10acdb96-3aaf-4966-9670-ac4f4c24a2a3",
   "metadata": {},
   "outputs": [
    {
     "name": "stdout",
     "output_type": "stream",
     "text": [
      "3000\n"
     ]
    }
   ],
   "source": [
    "class Product:\n",
    "    def __init__(self, name, price, quantity):\n",
    "        self.name = name\n",
    "        self.price = price\n",
    "        self.quantity = quantity\n",
    "\n",
    "    def total_price(self):\n",
    "        return self.price * self.quantity\n",
    "\n",
    "# Example usage\n",
    "product = Product(\"Laptop\", 1000, 3)\n",
    "print(product.total_price())  # Output: 3000"
   ]
  },
  {
   "cell_type": "markdown",
   "id": "03250fc4-ff11-4814-b855-fe68b31b9615",
   "metadata": {},
   "source": [
    "# Q16 Create a class Animal with an abstract method sound(). Create two derived classes Cow and Sheep that implement the sound() method."
   ]
  },
  {
   "cell_type": "code",
   "execution_count": 16,
   "id": "bdb0d829-3773-4eef-8899-a8333296175d",
   "metadata": {},
   "outputs": [
    {
     "name": "stdout",
     "output_type": "stream",
     "text": [
      "Moo\n",
      "Baa\n"
     ]
    }
   ],
   "source": [
    "from abc import ABC, abstractmethod\n",
    "\n",
    "class Animal(ABC):\n",
    "    @abstractmethod\n",
    "    def sound(self):\n",
    "        pass\n",
    "\n",
    "class Cow(Animal):\n",
    "    def sound(self):\n",
    "        print(\"Moo\")\n",
    "\n",
    "class Sheep(Animal):\n",
    "    def sound(self):\n",
    "        print(\"Baa\")\n",
    "\n",
    "# Example usage\n",
    "cow = Cow()\n",
    "cow.sound()  \n",
    "\n",
    "sheep = Sheep()\n",
    "sheep.sound()  \n"
   ]
  },
  {
   "cell_type": "markdown",
   "id": "9350767a-41d9-42b8-8079-c515d7a38633",
   "metadata": {},
   "source": [
    "# Q17 Create a class Book with attributes title, author, and year_published. Add a method get_book_info() that returns a formatted string with the book's details."
   ]
  },
  {
   "cell_type": "code",
   "execution_count": 17,
   "id": "fdd61ed5-d212-4011-ba3a-0815ef2a0f39",
   "metadata": {},
   "outputs": [
    {
     "name": "stdout",
     "output_type": "stream",
     "text": [
      "'1984' by George Orwell, published in 1949\n"
     ]
    }
   ],
   "source": [
    "class Book:\n",
    "    def __init__(self, title, author, year_published):\n",
    "        self.title = title\n",
    "        self.author = author\n",
    "        self.year_published = year_published\n",
    "\n",
    "    def get_book_info(self):\n",
    "        return f\"'{self.title}' by {self.author}, published in {self.year_published}\"\n",
    "\n",
    "# Example usage\n",
    "book = Book(\"1984\", \"George Orwell\", 1949)\n",
    "print(book.get_book_info())  \n"
   ]
  },
  {
   "cell_type": "markdown",
   "id": "d21f978a-7d6d-4507-828d-a5e68fc8218a",
   "metadata": {},
   "source": [
    "# 18 Create a class House with attributes address and price. Create a derived class Mansion that adds an attribute number_of_rooms."
   ]
  },
  {
   "cell_type": "code",
   "execution_count": 18,
   "id": "81bafd7f-9e68-45c4-a481-bc593f997f12",
   "metadata": {},
   "outputs": [
    {
     "name": "stdout",
     "output_type": "stream",
     "text": [
      "Address: 123 Luxury St, Price: 5000000, Rooms: 10\n"
     ]
    }
   ],
   "source": [
    "class House:\n",
    "    def __init__(self, address, price):\n",
    "        self.address = address\n",
    "        self.price = price\n",
    "\n",
    "class Mansion(House):\n",
    "    def __init__(self, address, price, number_of_rooms):\n",
    "        super().__init__(address, price)\n",
    "        self.number_of_rooms = number_of_rooms\n",
    "\n",
    "# Example usage\n",
    "mansion = Mansion(\"123 Luxury St\", 5000000, 10)\n",
    "print(f\"Address: {mansion.address}, Price: {mansion.price}, Rooms: {mansion.number_of_rooms}\")\n",
    "\n"
   ]
  },
  {
   "cell_type": "code",
   "execution_count": null,
   "id": "2210b046-91ea-45e7-a45d-eb7a1c9a29cd",
   "metadata": {},
   "outputs": [],
   "source": []
  }
 ],
 "metadata": {
  "kernelspec": {
   "display_name": "Python 3 (ipykernel)",
   "language": "python",
   "name": "python3"
  },
  "language_info": {
   "codemirror_mode": {
    "name": "ipython",
    "version": 3
   },
   "file_extension": ".py",
   "mimetype": "text/x-python",
   "name": "python",
   "nbconvert_exporter": "python",
   "pygments_lexer": "ipython3",
   "version": "3.12.7"
  }
 },
 "nbformat": 4,
 "nbformat_minor": 5
}
