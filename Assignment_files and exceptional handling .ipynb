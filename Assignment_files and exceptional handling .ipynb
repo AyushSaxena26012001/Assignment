{
 "cells": [
  {
   "cell_type": "markdown",
   "id": "133b497b-c1ff-4b86-b6cd-1f0a16fa4fb5",
   "metadata": {},
   "source": [
    "# Theory Question¶"
   ]
  },
  {
   "cell_type": "markdown",
   "id": "ba69c17e-4d24-4e06-8f66-953d38f5f40a",
   "metadata": {},
   "source": [
    "## Q1 Difference between interpreted and compiled languages\n",
    "Ans- Compiled: Translated into machine code before execution (e.g., C, C++).\n",
    "- Interpreted: Executed line-by-line by an interpreter at runtime (e.g., Python, JavaScript).\n",
    "\n",
    "## Q2 What is exception handling in Python?\n",
    "Ans Exception handling allows you to catch and manage errors during program execution using try, except, finally, and else blocks.\n",
    "\n",
    "## Q3 What is the purpose of the finally block in exception handling?\n",
    "Ans The finally block is always executed, whether an exception occurs or not. It is used to clean up resources, like closing files or releasing locks.\n",
    "\n",
    "## Q4 What is logging in Python?\n",
    "Ans Logging is the process of recording messages for debugging and monitoring purposes. It provides a way to track events that happen during code execution.\n",
    "\n",
    "## Q5 What is the significance of the __del__ method in Python?\n",
    "Ans __del__ is a destructor method called when an object is about to be destroyed. It is used for cleanup but is not reliable for critical resources due to uncertain timing.\n",
    "\n",
    "## Q6 Difference between import and from ... import\n",
    "Ans - import module: Imports the entire module.\n",
    "\n",
    "- from module import name: Imports only the specified object/function/class.\n",
    "\n",
    "## Q7 How can you handle multiple exceptions in Python?\n",
    "\n",
    "Ans Using Multiple Except Blocks\n",
    "\n",
    "You can catch multiple exceptions by writing separate except blocks for each exception. This approach is useful when you need to handle different exceptions differently. Here is an example:\n",
    "\n",
    "try:\n",
    "##### Code that may raise exceptions\n",
    "result = 10 / 0\n",
    "except ZeroDivisionError:\n",
    "print(\"You can't divide by zero\")\n",
    "except ValueError:\n",
    "print(\"Invalid value\")\n",
    "\n",
    "\n",
    "Using a Single Except Block\n",
    "\n",
    "If you want to handle multiple exceptions in the same way, you can group them in a single except block using a tuple. This approach avoids code duplication and simplifies the code. Here is an example:\n",
    "\n",
    "try:\n",
    "##### Code that may raise exceptions\n",
    "result = int(\"abc\")\n",
    "except (ValueError, TypeError) as e:\n",
    "print(f\"An error occurred: {e}\")\n",
    "\n",
    "## Q8 What is the purpose of the with statement when handling files in Python?\n",
    "Ans Ensures proper acquisition and release of resources (like files). Automatically closes the file even if an error occurs.\n",
    "- with open('file.txt') as f:\n",
    "    - data = f.read()\n",
    "\n",
    "## Q9 What is the difference between multithreading and multiprocessing\n",
    "Ans Multithreading: Multiple threads in the same process (shared memory).\n",
    "\n",
    "- Multiprocessing: Multiple processes with separate memory spaces (better for CPU-bound tasks).\n",
    "\n",
    " ## Q10 What are the advantages of using logging in a program?\n",
    "\n",
    "Ans Better than print() for production.\n",
    "\n",
    "- Adjustable levels (DEBUG, INFO, etc.)\n",
    "\n",
    "- Output to files, streams, or remote systems.\n",
    "\n",
    "- Time-stamped and categorized logs.\n",
    "\n",
    "## Q11 What is memory management in Python?\n",
    "Ans Python uses automatic memory management, including:\n",
    "\n",
    "- Reference counting\n",
    "\n",
    "- Garbage collection for unused objects\n",
    "\n",
    "- Dynamic memory allocation\n",
    "\n",
    "## Q12 What are the basic steps involved in exception handling in Python?\n",
    "Ans try: Wrap code that might fail.\n",
    "\n",
    "- except: Handle specific or generic exceptions.\n",
    "\n",
    "- else: Executes if no exception occurs.\n",
    "\n",
    "- finally: Executes always.\n",
    "\n",
    "## Q13 Why is memory management important in Python?\n",
    "Ans It ensures efficient use of memory, prevents leaks, and improves program performance and reliability.\n",
    "\n",
    "## Q14 What is the role of try and except in exception handling?\n",
    "Ans try: Executes potentially risky code.\n",
    "\n",
    "- except: Catches and handles exceptions if they occur.\n",
    "\n",
    "## Q15 How does Python's garbage collection system work?\n",
    "Ans Based on reference counting.\n",
    "\n",
    "- Uses a cyclic garbage collector to detect and collect reference cycles that can’t be freed by counting.\n",
    "\n",
    "## Q16 What is the purpose of the else block in exception handling?\n",
    "Ans Executed only if the try block doesn’t raise an exception. Useful for code that should only run if no error occurred.\n",
    "\n",
    "## Q17 What are the common logging levels in Python?\n",
    "Ans DEBUG: Detailed info for debugging.\n",
    "\n",
    "- INFO: Confirmation that things work.\n",
    "\n",
    "- WARNING: Something unexpected.\n",
    "\n",
    "- ERROR: A serious issue.\n",
    "\n",
    "- CRITICAL: Very serious error.\n",
    "\n",
    "## Q18 What is the difference between os.fork() and multiprocessing in Python?\n",
    "Ans os.fork() is Unix-only, low-level.\n",
    "\n",
    "- multiprocessing is high-level, cross-platform, and more flexible.\n",
    "\n",
    "## Q19 What is the importance of closing a file in Python?\n",
    "Ans Prevents memory leaks.\n",
    "\n",
    "- Ensures data is written to disk.\n",
    "\n",
    "- Releases system resources.\n",
    "\n",
    "  \n",
    "## Q20 What is the difference between file.read() and file.readline() in Python?\n",
    "Ans read(): Reads the entire file.\n",
    "\n",
    "- readline(): Reads one line at a time.\n",
    "\n",
    "## Q21 What is the logging module in Python used for?\n",
    "Ans A built-in module to record log messages. Used for tracking application behavior in a standardized way.\n",
    "\n",
    "## Q22 What is the os module in Python used for in file handling?\n",
    "Ans Provides functions for interacting with the OS:\n",
    "\n",
    "- File paths (os.path)\n",
    "\n",
    "- Environment variables\n",
    "\n",
    "- File system navigation (os.listdir, os.remove)\n",
    "\n",
    "## Q23 What are the challenges associated with memory management in Python?\n",
    "Ans Circular references\n",
    "\n",
    "- Memory fragmentation\n",
    "\n",
    "- Unintentional retention (memory leaks)\n",
    "\n",
    "- Performance overhead of garbage collector\n",
    "\n",
    "## Q24 How do you raise an exception manually in Python? \n",
    "Ans raise ValueError(\"Invalid input\")\n",
    "- Used to signal errors in user-defined conditions.\n",
    "## Q25 Why is it important to use multithreading in certain applications?\n",
    "Ans Useful for I/O-bound tasks like:\n",
    "\n",
    "- Web scraping\n",
    "\n",
    "- File reading\n",
    "\n",
    "- Network calls\n",
    "- Helps in improving responsiveness without spawning heavy processes."
   ]
  },
  {
   "cell_type": "markdown",
   "id": "f61f7140-2219-4aa5-9c1e-282862844d9a",
   "metadata": {},
   "source": [
    "# Practical Question"
   ]
  },
  {
   "cell_type": "markdown",
   "id": "9d49115e-f61a-4d9c-bdb0-c286616381c3",
   "metadata": {},
   "source": [
    "## Q1 How can you open a file for writing in Python and write a string to it?\n"
   ]
  },
  {
   "cell_type": "code",
   "execution_count": 1,
   "id": "5b37ca89-ed72-485e-87be-73de3eb8a0cb",
   "metadata": {},
   "outputs": [],
   "source": [
    "with open('example.txt', 'w') as file:\n",
    "    file.write(\"Hello, world!\")\n"
   ]
  },
  {
   "cell_type": "markdown",
   "id": "178e204d-9d8e-4964-a399-b28a21e3305b",
   "metadata": {},
   "source": [
    "## Q2 Write a Python program to read the contents of a file and print each line"
   ]
  },
  {
   "cell_type": "code",
   "execution_count": 2,
   "id": "6a8f12ce-4cef-4a24-b938-8a090626d6fa",
   "metadata": {},
   "outputs": [
    {
     "name": "stdout",
     "output_type": "stream",
     "text": [
      "Hello, world!\n"
     ]
    }
   ],
   "source": [
    "with open('example.txt', 'r') as file:\n",
    "    for line in file:\n",
    "        print(line.strip())\n"
   ]
  },
  {
   "cell_type": "markdown",
   "id": "7d713502-2df3-48b0-be53-c4d2e0c4ab48",
   "metadata": {},
   "source": [
    "## Q3 How would you handle a case where the file doesn't exist while trying to open it for reading?"
   ]
  },
  {
   "cell_type": "code",
   "execution_count": 3,
   "id": "757787da-04a4-4af5-bb09-6cb90e65d0d7",
   "metadata": {},
   "outputs": [
    {
     "name": "stdout",
     "output_type": "stream",
     "text": [
      "File not found.\n"
     ]
    }
   ],
   "source": [
    "try:\n",
    "    with open('nonexistent.txt', 'r') as file:\n",
    "        print(file.read())\n",
    "except FileNotFoundError:\n",
    "    print(\"File not found.\")\n"
   ]
  },
  {
   "cell_type": "markdown",
   "id": "2476a0f7-cbc2-4fc0-bd11-894281c9aa16",
   "metadata": {},
   "source": [
    "## Q4 Write a Python script that reads from one file and writes its content to another file"
   ]
  },
  {
   "cell_type": "code",
   "execution_count": null,
   "id": "867d96ec-115f-4b88-8e84-d4ff86f4957c",
   "metadata": {},
   "outputs": [],
   "source": [
    "# Open the source file in read mode\n",
    "with open('source_file.txt', 'r') as source:\n",
    "    # Read the content of the source file\n",
    "    content = source.read()\n",
    "\n",
    "# Open the destination file in write mode\n",
    "with open('destination_file.txt', 'w') as destination:\n",
    "    # Write the content to the destination file\n",
    "    destination.write(content)\n",
    "\n",
    "print(\"Content copied successfully!\")\n"
   ]
  },
  {
   "cell_type": "markdown",
   "id": "99abf281-4a46-4941-9ec1-3b6887d53e5c",
   "metadata": {},
   "source": [
    "## Q5 How would you catch and handle division by zero error in Python"
   ]
  },
  {
   "cell_type": "code",
   "execution_count": 6,
   "id": "5985415d-2435-4a5a-889b-ec8ba68f6874",
   "metadata": {},
   "outputs": [
    {
     "name": "stdout",
     "output_type": "stream",
     "text": [
      "You can't divide by zero!\n"
     ]
    }
   ],
   "source": [
    "try:\n",
    "    result = 10 / 0\n",
    "except ZeroDivisionError:\n",
    "    print(\"You can't divide by zero!\")\n"
   ]
  },
  {
   "cell_type": "markdown",
   "id": "f505fea9-3208-4022-986e-36117d3ab01d",
   "metadata": {},
   "source": [
    "## Q6 Write a Python program that logs an error message to a log file when a division by zero exception occurs"
   ]
  },
  {
   "cell_type": "code",
   "execution_count": 7,
   "id": "925294a7-8fe0-4af7-a789-a15ee8954518",
   "metadata": {},
   "outputs": [],
   "source": [
    "import logging\n",
    "\n",
    "logging.basicConfig(filename='errors.log', level=logging.ERROR)\n",
    "\n",
    "try:\n",
    "    result = 10 / 0\n",
    "except ZeroDivisionError as e:\n",
    "    logging.error(f\"Division by zero occurred: {e}\")\n"
   ]
  },
  {
   "cell_type": "markdown",
   "id": "ad22377e-da40-4c84-bfbc-dc4488219d4c",
   "metadata": {},
   "source": [
    "## Q7 How do you log information at different levels (INFO, ERROR, WARNING) in Python using the logging module"
   ]
  },
  {
   "cell_type": "code",
   "execution_count": 8,
   "id": "a4321683-93d7-45a9-8e39-083f327d18b3",
   "metadata": {},
   "outputs": [],
   "source": [
    "import logging\n",
    "\n",
    "logging.basicConfig(level=logging.DEBUG)\n",
    "\n",
    "logging.info(\"This is an info message\")\n",
    "logging.warning(\"This is a warning message\")\n",
    "logging.error(\"This is an error message\")\n"
   ]
  },
  {
   "cell_type": "markdown",
   "id": "04defeb1-e47a-46eb-b392-4abfa72aa6e2",
   "metadata": {},
   "source": [
    "## Q8 Write a program to handle a file opening error using exception handling"
   ]
  },
  {
   "cell_type": "code",
   "execution_count": 9,
   "id": "d6e9a445-8d6d-4dea-ac3b-e53ddc8b18e6",
   "metadata": {},
   "outputs": [
    {
     "name": "stdout",
     "output_type": "stream",
     "text": [
      "An error occurred: [Errno 2] No such file or directory: 'maybe_missing.txt'\n"
     ]
    }
   ],
   "source": [
    "try:\n",
    "    with open('maybe_missing.txt', 'r') as file:\n",
    "        print(file.read())\n",
    "except IOError as e:\n",
    "    print(f\"An error occurred: {e}\")\n"
   ]
  },
  {
   "cell_type": "markdown",
   "id": "9ea0eccd-4d8c-4ca8-a001-e0ec417e557a",
   "metadata": {},
   "source": [
    "## Q9 How can you read a file line by line and store its content in a list in Python"
   ]
  },
  {
   "cell_type": "code",
   "execution_count": 10,
   "id": "13a63053-90ff-4870-b602-63635ec28810",
   "metadata": {},
   "outputs": [
    {
     "name": "stdout",
     "output_type": "stream",
     "text": [
      "['Hello, world!']\n"
     ]
    }
   ],
   "source": [
    "with open('example.txt', 'r') as file:\n",
    "    lines = [line.strip() for line in file]\n",
    "print(lines)\n"
   ]
  },
  {
   "cell_type": "markdown",
   "id": "6adde004-4770-40b7-8e7e-e3a99000e46f",
   "metadata": {},
   "source": [
    "## Q10 How can you append data to an existing file in Python"
   ]
  },
  {
   "cell_type": "code",
   "execution_count": 11,
   "id": "eb8a7e59-917f-45f2-a028-9b1513191938",
   "metadata": {},
   "outputs": [],
   "source": [
    "with open('example.txt', 'a') as file:\n",
    "    file.write(\"\\nAppended text.\")\n"
   ]
  },
  {
   "cell_type": "markdown",
   "id": "94dda661-7abf-41f9-a9b9-a655e2ec32ca",
   "metadata": {},
   "source": [
    "## Q11 Write a Python program that uses a try-except block to handle an error when attempting to access a dictionary key that doesn't exist"
   ]
  },
  {
   "cell_type": "code",
   "execution_count": 12,
   "id": "376de111-1b76-4130-aeff-e3c9588f5f5a",
   "metadata": {},
   "outputs": [
    {
     "name": "stdout",
     "output_type": "stream",
     "text": [
      "Key not found!\n"
     ]
    }
   ],
   "source": [
    "my_dict = {'a': 1}\n",
    "try:\n",
    "    print(my_dict['b'])\n",
    "except KeyError:\n",
    "    print(\"Key not found!\")\n"
   ]
  },
  {
   "cell_type": "markdown",
   "id": "912bfd72-473d-4abd-8fae-fa8833f28c15",
   "metadata": {},
   "source": [
    "## Q12 Write a program that demonstrates using multiple except blocks to handle different types of exceptions"
   ]
  },
  {
   "cell_type": "code",
   "execution_count": 13,
   "id": "83b628b1-cb92-4823-9cd4-eafde71b3e40",
   "metadata": {},
   "outputs": [
    {
     "name": "stdout",
     "output_type": "stream",
     "text": [
      "Index out of range!\n"
     ]
    }
   ],
   "source": [
    "try:\n",
    "    lst = [1, 2, 3]\n",
    "    print(lst[10])  # IndexError\n",
    "    d = {}\n",
    "    print(d['x'])   # KeyError\n",
    "except IndexError:\n",
    "    print(\"Index out of range!\")\n",
    "except KeyError:\n",
    "    print(\"Key does not exist!\")\n"
   ]
  },
  {
   "cell_type": "markdown",
   "id": "00d12f9a-54b5-49b0-a3db-dd0893c346fd",
   "metadata": {},
   "source": [
    "## Q13 How would you check if a file exists before attempting to read it in Python"
   ]
  },
  {
   "cell_type": "code",
   "execution_count": 14,
   "id": "ae4b59be-7c2f-47ce-8737-19ea5c09ee05",
   "metadata": {},
   "outputs": [
    {
     "name": "stdout",
     "output_type": "stream",
     "text": [
      "File exists.\n"
     ]
    }
   ],
   "source": [
    "import os\n",
    "\n",
    "if os.path.exists('example.txt'):\n",
    "    print(\"File exists.\")\n",
    "else:\n",
    "    print(\"File does not exist.\")\n"
   ]
  },
  {
   "cell_type": "markdown",
   "id": "cb1227e2-58e2-4e02-8526-c8ed715c9f84",
   "metadata": {},
   "source": [
    "## Q14 Write a program that uses the logging module to log both informational and error messages"
   ]
  },
  {
   "cell_type": "code",
   "execution_count": 15,
   "id": "9bcc4ecc-ecd2-4253-bc9d-57fb00efdd9e",
   "metadata": {},
   "outputs": [],
   "source": [
    "import logging\n",
    "\n",
    "logging.basicConfig(filename='app.log', level=logging.DEBUG)\n",
    "logging.info(\"Program started\")\n",
    "try:\n",
    "    1 / 0\n",
    "except ZeroDivisionError as e:\n",
    "    logging.error(f\"Error: {e}\")\n"
   ]
  },
  {
   "cell_type": "markdown",
   "id": "0d731030-49c1-4c60-aa5b-466551a23715",
   "metadata": {},
   "source": [
    "## Q15 Write a Python program that prints the content of a file and handles the case when the file is empty"
   ]
  },
  {
   "cell_type": "code",
   "execution_count": 16,
   "id": "e2a5873b-cfd4-4d53-9e7f-bd1f9c573d5d",
   "metadata": {},
   "outputs": [
    {
     "name": "stdout",
     "output_type": "stream",
     "text": [
      "File does not exist.\n"
     ]
    }
   ],
   "source": [
    "try:\n",
    "    with open('maybe_empty.txt', 'r') as file:\n",
    "        content = file.read()\n",
    "        if not content:\n",
    "            print(\"File is empty.\")\n",
    "        else:\n",
    "            print(content)\n",
    "except FileNotFoundError:\n",
    "    print(\"File does not exist.\")\n"
   ]
  },
  {
   "cell_type": "markdown",
   "id": "f45bb0d2-10e1-4f61-8cac-81cd63eeb225",
   "metadata": {},
   "source": [
    "## Q16 Demonstrate how to use memory profiling to check the memory usage of a small program"
   ]
  },
  {
   "cell_type": "code",
   "execution_count": 17,
   "id": "4f206fb0-6d8a-4f79-af9c-40e6a0201910",
   "metadata": {},
   "outputs": [
    {
     "name": "stdout",
     "output_type": "stream",
     "text": [
      "Collecting memory-profiler\n",
      "  Downloading memory_profiler-0.61.0-py3-none-any.whl.metadata (20 kB)\n",
      "Requirement already satisfied: psutil in c:\\users\\ayushsaxena\\appdata\\local\\anaconda3\\lib\\site-packages (from memory-profiler) (5.9.0)\n",
      "Downloading memory_profiler-0.61.0-py3-none-any.whl (31 kB)\n",
      "Installing collected packages: memory-profiler\n",
      "Successfully installed memory-profiler-0.61.0\n",
      "Note: you may need to restart the kernel to use updated packages.\n"
     ]
    }
   ],
   "source": [
    "pip install memory-profiler\n"
   ]
  },
  {
   "cell_type": "code",
   "execution_count": 18,
   "id": "4e694902-2ce4-4b08-82ed-8eacdf54d684",
   "metadata": {},
   "outputs": [
    {
     "name": "stdout",
     "output_type": "stream",
     "text": [
      "ERROR: Could not find file C:\\Users\\ayushsaxena\\AppData\\Local\\Temp\\ipykernel_26692\\2460869443.py\n"
     ]
    },
    {
     "data": {
      "text/plain": [
       "49995000"
      ]
     },
     "execution_count": 18,
     "metadata": {},
     "output_type": "execute_result"
    }
   ],
   "source": [
    "from memory_profiler import profile\n",
    "\n",
    "@profile\n",
    "def memory_test():\n",
    "    data = [i for i in range(10000)]\n",
    "    return sum(data)\n",
    "\n",
    "memory_test()\n"
   ]
  },
  {
   "cell_type": "markdown",
   "id": "fcad0c9d-22a1-49ac-9531-6c1d3695b18a",
   "metadata": {},
   "source": [
    "## Q17 Write a Python program to create and write a list of numbers to a file, one number per line"
   ]
  },
  {
   "cell_type": "code",
   "execution_count": 19,
   "id": "42cd027c-b97d-4931-8578-675d8584f94e",
   "metadata": {},
   "outputs": [],
   "source": [
    "numbers = [1, 2, 3, 4, 5]\n",
    "with open('numbers.txt', 'w') as file:\n",
    "    for num in numbers:\n",
    "        file.write(f\"{num}\\n\")\n"
   ]
  },
  {
   "cell_type": "markdown",
   "id": "059fbeb9-3b9c-4976-b60d-6072d2617950",
   "metadata": {},
   "source": [
    "## Q18 How would you implement a basic logging setup that logs to a file with rotation after 1MB"
   ]
  },
  {
   "cell_type": "code",
   "execution_count": 20,
   "id": "ba73a452-4d69-42b0-afca-26ce311beff9",
   "metadata": {},
   "outputs": [],
   "source": [
    "import logging\n",
    "from logging.handlers import RotatingFileHandler\n",
    "\n",
    "handler = RotatingFileHandler('rotating.log', maxBytes=1024*1024, backupCount=3)\n",
    "logging.basicConfig(handlers=[handler], level=logging.INFO)\n",
    "\n",
    "logging.info(\"This is a log message.\")\n"
   ]
  },
  {
   "cell_type": "markdown",
   "id": "d8aa866d-8002-4c05-b948-1ef3643fa96e",
   "metadata": {},
   "source": [
    "## Q19 Write a program that handles both IndexError and KeyError using a try-except block"
   ]
  },
  {
   "cell_type": "code",
   "execution_count": 21,
   "id": "8baf225e-aea8-45cc-9418-3c359089fce4",
   "metadata": {},
   "outputs": [
    {
     "name": "stdout",
     "output_type": "stream",
     "text": [
      "Caught IndexError\n"
     ]
    }
   ],
   "source": [
    "try:\n",
    "    my_list = [1]\n",
    "    print(my_list[10])\n",
    "    my_dict = {}\n",
    "    print(my_dict['x'])\n",
    "except IndexError:\n",
    "    print(\"Caught IndexError\")\n",
    "except KeyError:\n",
    "    print(\"Caught KeyError\")\n"
   ]
  },
  {
   "cell_type": "markdown",
   "id": "4fc083fe-2d3b-49c5-88d2-f265971cfc11",
   "metadata": {},
   "source": [
    "## Q20 How would you open a file and read its contents using a context manager in Python"
   ]
  },
  {
   "cell_type": "code",
   "execution_count": 22,
   "id": "1e5dd2e0-133e-4ddc-a835-29d81c9e2920",
   "metadata": {},
   "outputs": [
    {
     "name": "stdout",
     "output_type": "stream",
     "text": [
      "Hello, world!\n",
      "Appended text.\n"
     ]
    }
   ],
   "source": [
    "with open('example.txt', 'r') as file:\n",
    "    print(file.read())\n"
   ]
  },
  {
   "cell_type": "markdown",
   "id": "cdf165eb-31d8-4ccd-8d2f-64a2345c5f5b",
   "metadata": {},
   "source": [
    "## Q21 Write a Python program that reads a file and prints the number of occurrences of a specific word"
   ]
  },
  {
   "cell_type": "code",
   "execution_count": null,
   "id": "ac6b2679-e41f-4151-accc-de9c36bcfa5a",
   "metadata": {},
   "outputs": [],
   "source": [
    "word_to_find = \"python\"\n",
    "count = 0\n",
    "\n",
    "with open('sample.txt', 'r') as file:\n",
    "    for line in file:\n",
    "        count += line.lower().split().count(word_to_find.lower())\n",
    "\n",
    "print(f\"'{word_to_find}' occurred {count} times.\")\n"
   ]
  },
  {
   "cell_type": "markdown",
   "id": "3f52f234-1a19-47d5-9fb3-1733ee45ceb0",
   "metadata": {},
   "source": [
    "## Q22 How can you check if a file is empty before attempting to read its contents"
   ]
  },
  {
   "cell_type": "code",
   "execution_count": 24,
   "id": "36e7e762-6ebf-4f5a-b026-141a73bb4656",
   "metadata": {},
   "outputs": [
    {
     "name": "stdout",
     "output_type": "stream",
     "text": [
      "File has content.\n"
     ]
    }
   ],
   "source": [
    "import os\n",
    "\n",
    "if os.path.exists('check_empty.txt') and os.stat('check_empty.txt').st_size == 0:\n",
    "    print(\"File is empty.\")\n",
    "else:\n",
    "    print(\"File has content.\")\n"
   ]
  },
  {
   "cell_type": "markdown",
   "id": "e745fd60-469d-4776-b92d-122b80908ef0",
   "metadata": {},
   "source": [
    "## Q23 Write a Python program that writes to a log file when an error occurs during file handling"
   ]
  },
  {
   "cell_type": "code",
   "execution_count": 25,
   "id": "595421de-4544-4b70-868f-45b21b0bdbf0",
   "metadata": {},
   "outputs": [],
   "source": [
    "import logging\n",
    "\n",
    "logging.basicConfig(filename='file_errors.log', level=logging.ERROR)\n",
    "\n",
    "try:\n",
    "    with open('nonexistent.txt', 'r') as f:\n",
    "        data = f.read()\n",
    "except Exception as e:\n",
    "    logging.error(f\"Failed to open file: {e}\")\n"
   ]
  },
  {
   "cell_type": "code",
   "execution_count": null,
   "id": "0a58757c-5704-45c4-9e60-6fc504b11817",
   "metadata": {},
   "outputs": [],
   "source": []
  }
 ],
 "metadata": {
  "kernelspec": {
   "display_name": "Python 3 (ipykernel)",
   "language": "python",
   "name": "python3"
  },
  "language_info": {
   "codemirror_mode": {
    "name": "ipython",
    "version": 3
   },
   "file_extension": ".py",
   "mimetype": "text/x-python",
   "name": "python",
   "nbconvert_exporter": "python",
   "pygments_lexer": "ipython3",
   "version": "3.12.7"
  }
 },
 "nbformat": 4,
 "nbformat_minor": 5
}
